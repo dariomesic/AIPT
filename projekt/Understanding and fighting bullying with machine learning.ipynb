{
 "cells": [
  {
   "cell_type": "code",
   "execution_count": 1,
   "id": "da03ae87",
   "metadata": {},
   "outputs": [],
   "source": [
    "import numpy as np\n",
    "import pandas as pd"
   ]
  },
  {
   "cell_type": "markdown",
   "id": "ff71447a",
   "metadata": {},
   "source": [
    "# Učitavanje podataka"
   ]
  },
  {
   "cell_type": "code",
   "execution_count": 2,
   "id": "4aa5d8f3",
   "metadata": {},
   "outputs": [],
   "source": [
    "# ucitavanje podataka\n",
    "X = pd.read_csv(\"data.csv\")"
   ]
  },
  {
   "cell_type": "markdown",
   "id": "68263476",
   "metadata": {},
   "source": [
    "# Početni pregled podataka"
   ]
  },
  {
   "cell_type": "code",
   "execution_count": 3,
   "id": "0bc84001",
   "metadata": {},
   "outputs": [
    {
     "data": {
      "text/plain": [
       "(7320, 8)"
      ]
     },
     "execution_count": 3,
     "metadata": {},
     "output_type": "execute_result"
    }
   ],
   "source": [
    "X.shape"
   ]
  },
  {
   "cell_type": "code",
   "execution_count": 4,
   "id": "267364cf",
   "metadata": {},
   "outputs": [
    {
     "data": {
      "text/html": [
       "<div>\n",
       "<style scoped>\n",
       "    .dataframe tbody tr th:only-of-type {\n",
       "        vertical-align: middle;\n",
       "    }\n",
       "\n",
       "    .dataframe tbody tr th {\n",
       "        vertical-align: top;\n",
       "    }\n",
       "\n",
       "    .dataframe thead th {\n",
       "        text-align: right;\n",
       "    }\n",
       "</style>\n",
       "<table border=\"1\" class=\"dataframe\">\n",
       "  <thead>\n",
       "    <tr style=\"text-align: right;\">\n",
       "      <th></th>\n",
       "      <th>105730486382497793</th>\n",
       "      <th>322329899</th>\n",
       "      <th>y</th>\n",
       "      <th>self-disclosure</th>\n",
       "      <th>other</th>\n",
       "      <th>n</th>\n",
       "      <th>victim</th>\n",
       "      <th>none</th>\n",
       "    </tr>\n",
       "  </thead>\n",
       "  <tbody>\n",
       "    <tr>\n",
       "      <th>0</th>\n",
       "      <td>107688644067856384</td>\n",
       "      <td>185389094</td>\n",
       "      <td>y</td>\n",
       "      <td>self-disclosure</td>\n",
       "      <td>other</td>\n",
       "      <td>n</td>\n",
       "      <td>defender</td>\n",
       "      <td>empathy</td>\n",
       "    </tr>\n",
       "    <tr>\n",
       "      <th>1</th>\n",
       "      <td>108654820042354688</td>\n",
       "      <td>361869056</td>\n",
       "      <td>n</td>\n",
       "      <td>NaN</td>\n",
       "      <td>NaN</td>\n",
       "      <td>NaN</td>\n",
       "      <td>NaN</td>\n",
       "      <td>NaN</td>\n",
       "    </tr>\n",
       "    <tr>\n",
       "      <th>2</th>\n",
       "      <td>102206417217392640</td>\n",
       "      <td>226320672</td>\n",
       "      <td>n</td>\n",
       "      <td>NaN</td>\n",
       "      <td>NaN</td>\n",
       "      <td>NaN</td>\n",
       "      <td>NaN</td>\n",
       "      <td>NaN</td>\n",
       "    </tr>\n",
       "    <tr>\n",
       "      <th>3</th>\n",
       "      <td>102779484725448704</td>\n",
       "      <td>297557032</td>\n",
       "      <td>n</td>\n",
       "      <td>NaN</td>\n",
       "      <td>NaN</td>\n",
       "      <td>NaN</td>\n",
       "      <td>NaN</td>\n",
       "      <td>NaN</td>\n",
       "    </tr>\n",
       "    <tr>\n",
       "      <th>4</th>\n",
       "      <td>108676972149874688</td>\n",
       "      <td>157724561</td>\n",
       "      <td>n</td>\n",
       "      <td>NaN</td>\n",
       "      <td>NaN</td>\n",
       "      <td>NaN</td>\n",
       "      <td>NaN</td>\n",
       "      <td>NaN</td>\n",
       "    </tr>\n",
       "  </tbody>\n",
       "</table>\n",
       "</div>"
      ],
      "text/plain": [
       "   105730486382497793  322329899  y  self-disclosure  other    n    victim  \\\n",
       "0  107688644067856384  185389094  y  self-disclosure  other    n  defender   \n",
       "1  108654820042354688  361869056  n              NaN    NaN  NaN       NaN   \n",
       "2  102206417217392640  226320672  n              NaN    NaN  NaN       NaN   \n",
       "3  102779484725448704  297557032  n              NaN    NaN  NaN       NaN   \n",
       "4  108676972149874688  157724561  n              NaN    NaN  NaN       NaN   \n",
       "\n",
       "      none  \n",
       "0  empathy  \n",
       "1      NaN  \n",
       "2      NaN  \n",
       "3      NaN  \n",
       "4      NaN  "
      ]
     },
     "execution_count": 4,
     "metadata": {},
     "output_type": "execute_result"
    }
   ],
   "source": [
    "# prikaz skupa za treniranje\n",
    "X.head()"
   ]
  },
  {
   "cell_type": "markdown",
   "id": "b751cf90",
   "metadata": {},
   "source": [
    "# Promjena imena značajki"
   ]
  },
  {
   "cell_type": "code",
   "execution_count": 16,
   "id": "8f8fc62e",
   "metadata": {},
   "outputs": [],
   "source": [
    "X.rename(columns = {'105730486382497793':'Tweet ID', '322329899':'User ID',\n",
    "                              'y':'Bullying traces', 'self-disclosure':'Type','other':'Form', 'n':'Teasing', 'victim':'Author role', 'none':'Emotion'}, inplace = True)"
   ]
  },
  {
   "cell_type": "code",
   "execution_count": 17,
   "id": "9715d2e5",
   "metadata": {},
   "outputs": [
    {
     "data": {
      "text/html": [
       "<div>\n",
       "<style scoped>\n",
       "    .dataframe tbody tr th:only-of-type {\n",
       "        vertical-align: middle;\n",
       "    }\n",
       "\n",
       "    .dataframe tbody tr th {\n",
       "        vertical-align: top;\n",
       "    }\n",
       "\n",
       "    .dataframe thead th {\n",
       "        text-align: right;\n",
       "    }\n",
       "</style>\n",
       "<table border=\"1\" class=\"dataframe\">\n",
       "  <thead>\n",
       "    <tr style=\"text-align: right;\">\n",
       "      <th></th>\n",
       "      <th>Tweet ID</th>\n",
       "      <th>User ID</th>\n",
       "      <th>Bullying traces</th>\n",
       "      <th>Type</th>\n",
       "      <th>Form</th>\n",
       "      <th>Teasing</th>\n",
       "      <th>Author role</th>\n",
       "      <th>Emotion</th>\n",
       "    </tr>\n",
       "  </thead>\n",
       "  <tbody>\n",
       "    <tr>\n",
       "      <th>0</th>\n",
       "      <td>107688644067856384</td>\n",
       "      <td>185389094</td>\n",
       "      <td>y</td>\n",
       "      <td>self-disclosure</td>\n",
       "      <td>other</td>\n",
       "      <td>n</td>\n",
       "      <td>defender</td>\n",
       "      <td>empathy</td>\n",
       "    </tr>\n",
       "    <tr>\n",
       "      <th>1</th>\n",
       "      <td>108654820042354688</td>\n",
       "      <td>361869056</td>\n",
       "      <td>n</td>\n",
       "      <td>NaN</td>\n",
       "      <td>NaN</td>\n",
       "      <td>NaN</td>\n",
       "      <td>NaN</td>\n",
       "      <td>NaN</td>\n",
       "    </tr>\n",
       "    <tr>\n",
       "      <th>2</th>\n",
       "      <td>102206417217392640</td>\n",
       "      <td>226320672</td>\n",
       "      <td>n</td>\n",
       "      <td>NaN</td>\n",
       "      <td>NaN</td>\n",
       "      <td>NaN</td>\n",
       "      <td>NaN</td>\n",
       "      <td>NaN</td>\n",
       "    </tr>\n",
       "    <tr>\n",
       "      <th>3</th>\n",
       "      <td>102779484725448704</td>\n",
       "      <td>297557032</td>\n",
       "      <td>n</td>\n",
       "      <td>NaN</td>\n",
       "      <td>NaN</td>\n",
       "      <td>NaN</td>\n",
       "      <td>NaN</td>\n",
       "      <td>NaN</td>\n",
       "    </tr>\n",
       "    <tr>\n",
       "      <th>4</th>\n",
       "      <td>108676972149874688</td>\n",
       "      <td>157724561</td>\n",
       "      <td>n</td>\n",
       "      <td>NaN</td>\n",
       "      <td>NaN</td>\n",
       "      <td>NaN</td>\n",
       "      <td>NaN</td>\n",
       "      <td>NaN</td>\n",
       "    </tr>\n",
       "  </tbody>\n",
       "</table>\n",
       "</div>"
      ],
      "text/plain": [
       "             Tweet ID    User ID Bullying traces             Type   Form  \\\n",
       "0  107688644067856384  185389094               y  self-disclosure  other   \n",
       "1  108654820042354688  361869056               n              NaN    NaN   \n",
       "2  102206417217392640  226320672               n              NaN    NaN   \n",
       "3  102779484725448704  297557032               n              NaN    NaN   \n",
       "4  108676972149874688  157724561               n              NaN    NaN   \n",
       "\n",
       "  Teasing Author role  Emotion  \n",
       "0       n    defender  empathy  \n",
       "1     NaN         NaN      NaN  \n",
       "2     NaN         NaN      NaN  \n",
       "3     NaN         NaN      NaN  \n",
       "4     NaN         NaN      NaN  "
      ]
     },
     "execution_count": 17,
     "metadata": {},
     "output_type": "execute_result"
    }
   ],
   "source": [
    "# prikaz skupa za treniranje\n",
    "X.head()"
   ]
  },
  {
   "cell_type": "markdown",
   "id": "0b6de56d",
   "metadata": {},
   "source": [
    "# Opis podataka"
   ]
  },
  {
   "cell_type": "markdown",
   "id": "62e1b991",
   "metadata": {},
   "source": [
    "Pojašnjenja značajki:\n",
    "   * **Tweet ID** - ID preuzetog tweeta\n",
    "   * **User ID** - ID osobe koja je napravila tweet\n",
    "   * **Bullying_Traces** - prikazuje li tweet znakove bullyanja ili ne (y ili n)\n",
    "   * **Type** - tip bullyanja (accusation, cyberbullying, denial, report, self-disclosure, NA)\n",
    "   * **Form** - vrsta bullyanja (cyberbullying, physical, property damage, relational, verbal, other, NA)\n",
    "   * **Teasing** - je li riječ o zadirkivanju ili ne (y ili n)\n",
    "   * **Author_Role** - položaj autora u tweetu (accuser, assistant, bully, defender, reinforcer, reporter, victim, other, NA)\n",
    "   * **Emotion** - emocija koju izražava tweet (anger, embarrassment, empathy, fear, none, other, pride, relief, sadness, NA)"
   ]
  },
  {
   "cell_type": "code",
   "execution_count": 7,
   "id": "c5afbe2b",
   "metadata": {},
   "outputs": [
    {
     "data": {
      "text/plain": [
       "105730486382497793       0\n",
       "322329899                0\n",
       "y                        0\n",
       "self-disclosure       5219\n",
       "other                 5219\n",
       "n                     5219\n",
       "victim                5219\n",
       "none                  5219\n",
       "dtype: int64"
      ]
     },
     "metadata": {},
     "output_type": "display_data"
    }
   ],
   "source": [
    "display(X.isna().sum())"
   ]
  },
  {
   "cell_type": "code",
   "execution_count": 18,
   "id": "b5f30403",
   "metadata": {},
   "outputs": [
    {
     "data": {
      "text/html": [
       "<div>\n",
       "<style scoped>\n",
       "    .dataframe tbody tr th:only-of-type {\n",
       "        vertical-align: middle;\n",
       "    }\n",
       "\n",
       "    .dataframe tbody tr th {\n",
       "        vertical-align: top;\n",
       "    }\n",
       "\n",
       "    .dataframe thead th {\n",
       "        text-align: right;\n",
       "    }\n",
       "</style>\n",
       "<table border=\"1\" class=\"dataframe\">\n",
       "  <thead>\n",
       "    <tr style=\"text-align: right;\">\n",
       "      <th></th>\n",
       "      <th>Tweet ID</th>\n",
       "      <th>User ID</th>\n",
       "    </tr>\n",
       "  </thead>\n",
       "  <tbody>\n",
       "    <tr>\n",
       "      <th>count</th>\n",
       "      <td>7.320000e+03</td>\n",
       "      <td>7.320000e+03</td>\n",
       "    </tr>\n",
       "    <tr>\n",
       "      <th>mean</th>\n",
       "      <td>1.033137e+17</td>\n",
       "      <td>1.709504e+08</td>\n",
       "    </tr>\n",
       "    <tr>\n",
       "      <th>std</th>\n",
       "      <td>3.121142e+15</td>\n",
       "      <td>1.062811e+08</td>\n",
       "    </tr>\n",
       "    <tr>\n",
       "      <th>min</th>\n",
       "      <td>9.970695e+16</td>\n",
       "      <td>7.794510e+05</td>\n",
       "    </tr>\n",
       "    <tr>\n",
       "      <th>25%</th>\n",
       "      <td>1.000126e+17</td>\n",
       "      <td>7.044485e+07</td>\n",
       "    </tr>\n",
       "    <tr>\n",
       "      <th>50%</th>\n",
       "      <td>1.029118e+17</td>\n",
       "      <td>1.644114e+08</td>\n",
       "    </tr>\n",
       "    <tr>\n",
       "      <th>75%</th>\n",
       "      <td>1.061250e+17</td>\n",
       "      <td>2.645820e+08</td>\n",
       "    </tr>\n",
       "    <tr>\n",
       "      <th>max</th>\n",
       "      <td>1.091281e+17</td>\n",
       "      <td>3.652028e+08</td>\n",
       "    </tr>\n",
       "  </tbody>\n",
       "</table>\n",
       "</div>"
      ],
      "text/plain": [
       "           Tweet ID       User ID\n",
       "count  7.320000e+03  7.320000e+03\n",
       "mean   1.033137e+17  1.709504e+08\n",
       "std    3.121142e+15  1.062811e+08\n",
       "min    9.970695e+16  7.794510e+05\n",
       "25%    1.000126e+17  7.044485e+07\n",
       "50%    1.029118e+17  1.644114e+08\n",
       "75%    1.061250e+17  2.645820e+08\n",
       "max    1.091281e+17  3.652028e+08"
      ]
     },
     "execution_count": 18,
     "metadata": {},
     "output_type": "execute_result"
    }
   ],
   "source": [
    "X.describe()"
   ]
  },
  {
   "cell_type": "code",
   "execution_count": 19,
   "id": "3c8fce42",
   "metadata": {},
   "outputs": [
    {
     "data": {
      "text/plain": [
       "Tweet ID           7297\n",
       "User ID            7042\n",
       "Bullying traces       2\n",
       "Type                  5\n",
       "Form                  6\n",
       "Teasing               2\n",
       "Author role           8\n",
       "Emotion               9\n",
       "dtype: int64"
      ]
     },
     "execution_count": 19,
     "metadata": {},
     "output_type": "execute_result"
    }
   ],
   "source": [
    "X.nunique()"
   ]
  },
  {
   "cell_type": "code",
   "execution_count": 20,
   "id": "be64941c",
   "metadata": {},
   "outputs": [
    {
     "name": "stdout",
     "output_type": "stream",
     "text": [
      "<class 'pandas.core.frame.DataFrame'>\n",
      "RangeIndex: 7320 entries, 0 to 7319\n",
      "Data columns (total 8 columns):\n",
      " #   Column           Non-Null Count  Dtype \n",
      "---  ------           --------------  ----- \n",
      " 0   Tweet ID         7320 non-null   int64 \n",
      " 1   User ID          7320 non-null   int64 \n",
      " 2   Bullying traces  7320 non-null   object\n",
      " 3   Type             2101 non-null   object\n",
      " 4   Form             2101 non-null   object\n",
      " 5   Teasing          2101 non-null   object\n",
      " 6   Author role      2101 non-null   object\n",
      " 7   Emotion          2101 non-null   object\n",
      "dtypes: int64(2), object(6)\n",
      "memory usage: 457.6+ KB\n"
     ]
    }
   ],
   "source": [
    "X.info()"
   ]
  },
  {
   "cell_type": "code",
   "execution_count": null,
   "id": "52e33ed2",
   "metadata": {},
   "outputs": [],
   "source": []
  }
 ],
 "metadata": {
  "kernelspec": {
   "display_name": "Python 3 (ipykernel)",
   "language": "python",
   "name": "python3"
  },
  "language_info": {
   "codemirror_mode": {
    "name": "ipython",
    "version": 3
   },
   "file_extension": ".py",
   "mimetype": "text/x-python",
   "name": "python",
   "nbconvert_exporter": "python",
   "pygments_lexer": "ipython3",
   "version": "3.9.3"
  }
 },
 "nbformat": 4,
 "nbformat_minor": 5
}
