{
 "cells": [
  {
   "cell_type": "code",
   "execution_count": 1,
   "id": "da03ae87",
   "metadata": {},
   "outputs": [],
   "source": [
    "import numpy as np\n",
    "import pandas as pd"
   ]
  },
  {
   "cell_type": "markdown",
   "id": "ff71447a",
   "metadata": {},
   "source": [
    "### Data loading"
   ]
  },
  {
   "cell_type": "code",
   "execution_count": 2,
   "id": "4aa5d8f3",
   "metadata": {},
   "outputs": [],
   "source": [
    "header_list = ['tweet_id', 'user_id', 'bullying_traces', 'type', 'form', 'teasing', 'author_role', 'emotion']\n",
    "csv = pd.read_csv(\"data.csv\", names=header_list)"
   ]
  },
  {
   "cell_type": "markdown",
   "id": "68263476",
   "metadata": {},
   "source": [
    "### Examination of dataset"
   ]
  },
  {
   "cell_type": "code",
   "execution_count": 3,
   "id": "0bc84001",
   "metadata": {},
   "outputs": [
    {
     "data": {
      "text/plain": [
       "(7321, 8)"
      ]
     },
     "execution_count": 3,
     "metadata": {},
     "output_type": "execute_result"
    }
   ],
   "source": [
    "csv.shape"
   ]
  },
  {
   "cell_type": "code",
   "execution_count": 4,
   "id": "9715d2e5",
   "metadata": {},
   "outputs": [
    {
     "data": {
      "text/html": [
       "<div>\n",
       "<style scoped>\n",
       "    .dataframe tbody tr th:only-of-type {\n",
       "        vertical-align: middle;\n",
       "    }\n",
       "\n",
       "    .dataframe tbody tr th {\n",
       "        vertical-align: top;\n",
       "    }\n",
       "\n",
       "    .dataframe thead th {\n",
       "        text-align: right;\n",
       "    }\n",
       "</style>\n",
       "<table border=\"1\" class=\"dataframe\">\n",
       "  <thead>\n",
       "    <tr style=\"text-align: right;\">\n",
       "      <th></th>\n",
       "      <th>tweet_id</th>\n",
       "      <th>user_id</th>\n",
       "      <th>bullying_traces</th>\n",
       "      <th>type</th>\n",
       "      <th>form</th>\n",
       "      <th>teasing</th>\n",
       "      <th>author_role</th>\n",
       "      <th>emotion</th>\n",
       "    </tr>\n",
       "  </thead>\n",
       "  <tbody>\n",
       "    <tr>\n",
       "      <th>0</th>\n",
       "      <td>105730486382497793</td>\n",
       "      <td>322329899</td>\n",
       "      <td>y</td>\n",
       "      <td>self-disclosure</td>\n",
       "      <td>other</td>\n",
       "      <td>n</td>\n",
       "      <td>victim</td>\n",
       "      <td>none</td>\n",
       "    </tr>\n",
       "    <tr>\n",
       "      <th>1</th>\n",
       "      <td>107688644067856384</td>\n",
       "      <td>185389094</td>\n",
       "      <td>y</td>\n",
       "      <td>self-disclosure</td>\n",
       "      <td>other</td>\n",
       "      <td>n</td>\n",
       "      <td>defender</td>\n",
       "      <td>empathy</td>\n",
       "    </tr>\n",
       "    <tr>\n",
       "      <th>2</th>\n",
       "      <td>108654820042354688</td>\n",
       "      <td>361869056</td>\n",
       "      <td>n</td>\n",
       "      <td>NaN</td>\n",
       "      <td>NaN</td>\n",
       "      <td>NaN</td>\n",
       "      <td>NaN</td>\n",
       "      <td>NaN</td>\n",
       "    </tr>\n",
       "    <tr>\n",
       "      <th>3</th>\n",
       "      <td>102206417217392640</td>\n",
       "      <td>226320672</td>\n",
       "      <td>n</td>\n",
       "      <td>NaN</td>\n",
       "      <td>NaN</td>\n",
       "      <td>NaN</td>\n",
       "      <td>NaN</td>\n",
       "      <td>NaN</td>\n",
       "    </tr>\n",
       "    <tr>\n",
       "      <th>4</th>\n",
       "      <td>102779484725448704</td>\n",
       "      <td>297557032</td>\n",
       "      <td>n</td>\n",
       "      <td>NaN</td>\n",
       "      <td>NaN</td>\n",
       "      <td>NaN</td>\n",
       "      <td>NaN</td>\n",
       "      <td>NaN</td>\n",
       "    </tr>\n",
       "  </tbody>\n",
       "</table>\n",
       "</div>"
      ],
      "text/plain": [
       "             tweet_id    user_id bullying_traces             type   form  \\\n",
       "0  105730486382497793  322329899               y  self-disclosure  other   \n",
       "1  107688644067856384  185389094               y  self-disclosure  other   \n",
       "2  108654820042354688  361869056               n              NaN    NaN   \n",
       "3  102206417217392640  226320672               n              NaN    NaN   \n",
       "4  102779484725448704  297557032               n              NaN    NaN   \n",
       "\n",
       "  teasing author_role  emotion  \n",
       "0       n      victim     none  \n",
       "1       n    defender  empathy  \n",
       "2     NaN         NaN      NaN  \n",
       "3     NaN         NaN      NaN  \n",
       "4     NaN         NaN      NaN  "
      ]
     },
     "execution_count": 4,
     "metadata": {},
     "output_type": "execute_result"
    }
   ],
   "source": [
    "# prikaz skupa za treniranje\n",
    "csv.head()"
   ]
  },
  {
   "cell_type": "markdown",
   "id": "0b6de56d",
   "metadata": {},
   "source": [
    "### Feature description"
   ]
  },
  {
   "cell_type": "markdown",
   "id": "62e1b991",
   "metadata": {},
   "source": [
    "* **tweet_id** - Tweet identification number\n",
    "* **user_id** - User identification number\n",
    "* **bullying_traces** - Boolean value that says if tweet id a bullying trace\n",
    "* **type** - Type of bullying(accusation, cyberbullying, denial, report, self-disclosure, NA)\n",
    "* **form** - Form of bullying(cyberbullying, physical, property damage, relational, verbal, other, NA)\n",
    "* **teasing** - Boolean that says if teasing is involved\n",
    "* **author_role** - Author role in a tweet(accuser, assistant, bully, defender, reinforcer, reporter, victim, other, NA)\n",
    "* **emotion** - Emotion expressed in a tweet(anger, embarrassment, empathy, fear, none, other, pride, relief, sadness, NA)"
   ]
  },
  {
   "cell_type": "code",
   "execution_count": 5,
   "id": "c5afbe2b",
   "metadata": {},
   "outputs": [
    {
     "data": {
      "text/plain": [
       "tweet_id              0\n",
       "user_id               0\n",
       "bullying_traces       0\n",
       "type               5219\n",
       "form               5219\n",
       "teasing            5219\n",
       "author_role        5219\n",
       "emotion            5219\n",
       "dtype: int64"
      ]
     },
     "metadata": {},
     "output_type": "display_data"
    }
   ],
   "source": [
    "display(csv.isna().sum())"
   ]
  },
  {
   "cell_type": "code",
   "execution_count": 6,
   "id": "b5f30403",
   "metadata": {},
   "outputs": [
    {
     "data": {
      "text/html": [
       "<div>\n",
       "<style scoped>\n",
       "    .dataframe tbody tr th:only-of-type {\n",
       "        vertical-align: middle;\n",
       "    }\n",
       "\n",
       "    .dataframe tbody tr th {\n",
       "        vertical-align: top;\n",
       "    }\n",
       "\n",
       "    .dataframe thead th {\n",
       "        text-align: right;\n",
       "    }\n",
       "</style>\n",
       "<table border=\"1\" class=\"dataframe\">\n",
       "  <thead>\n",
       "    <tr style=\"text-align: right;\">\n",
       "      <th></th>\n",
       "      <th>tweet_id</th>\n",
       "      <th>user_id</th>\n",
       "    </tr>\n",
       "  </thead>\n",
       "  <tbody>\n",
       "    <tr>\n",
       "      <th>count</th>\n",
       "      <td>7.321000e+03</td>\n",
       "      <td>7.321000e+03</td>\n",
       "    </tr>\n",
       "    <tr>\n",
       "      <th>mean</th>\n",
       "      <td>1.033140e+17</td>\n",
       "      <td>1.709711e+08</td>\n",
       "    </tr>\n",
       "    <tr>\n",
       "      <th>std</th>\n",
       "      <td>3.121057e+15</td>\n",
       "      <td>1.062885e+08</td>\n",
       "    </tr>\n",
       "    <tr>\n",
       "      <th>min</th>\n",
       "      <td>9.970695e+16</td>\n",
       "      <td>7.794510e+05</td>\n",
       "    </tr>\n",
       "    <tr>\n",
       "      <th>25%</th>\n",
       "      <td>1.000126e+17</td>\n",
       "      <td>7.045550e+07</td>\n",
       "    </tr>\n",
       "    <tr>\n",
       "      <th>50%</th>\n",
       "      <td>1.029122e+17</td>\n",
       "      <td>1.644135e+08</td>\n",
       "    </tr>\n",
       "    <tr>\n",
       "      <th>75%</th>\n",
       "      <td>1.061250e+17</td>\n",
       "      <td>2.646067e+08</td>\n",
       "    </tr>\n",
       "    <tr>\n",
       "      <th>max</th>\n",
       "      <td>1.091281e+17</td>\n",
       "      <td>3.652028e+08</td>\n",
       "    </tr>\n",
       "  </tbody>\n",
       "</table>\n",
       "</div>"
      ],
      "text/plain": [
       "           tweet_id       user_id\n",
       "count  7.321000e+03  7.321000e+03\n",
       "mean   1.033140e+17  1.709711e+08\n",
       "std    3.121057e+15  1.062885e+08\n",
       "min    9.970695e+16  7.794510e+05\n",
       "25%    1.000126e+17  7.045550e+07\n",
       "50%    1.029122e+17  1.644135e+08\n",
       "75%    1.061250e+17  2.646067e+08\n",
       "max    1.091281e+17  3.652028e+08"
      ]
     },
     "execution_count": 6,
     "metadata": {},
     "output_type": "execute_result"
    }
   ],
   "source": [
    "csv.describe()"
   ]
  },
  {
   "cell_type": "code",
   "execution_count": 7,
   "id": "3c8fce42",
   "metadata": {},
   "outputs": [
    {
     "data": {
      "text/plain": [
       "tweet_id           7298\n",
       "user_id            7043\n",
       "bullying_traces       2\n",
       "type                  5\n",
       "form                  6\n",
       "teasing               2\n",
       "author_role           8\n",
       "emotion               9\n",
       "dtype: int64"
      ]
     },
     "execution_count": 7,
     "metadata": {},
     "output_type": "execute_result"
    }
   ],
   "source": [
    "csv.nunique()"
   ]
  },
  {
   "cell_type": "code",
   "execution_count": 8,
   "id": "be64941c",
   "metadata": {},
   "outputs": [
    {
     "name": "stdout",
     "output_type": "stream",
     "text": [
      "<class 'pandas.core.frame.DataFrame'>\n",
      "RangeIndex: 7321 entries, 0 to 7320\n",
      "Data columns (total 8 columns):\n",
      " #   Column           Non-Null Count  Dtype \n",
      "---  ------           --------------  ----- \n",
      " 0   tweet_id         7321 non-null   int64 \n",
      " 1   user_id          7321 non-null   int64 \n",
      " 2   bullying_traces  7321 non-null   object\n",
      " 3   type             2102 non-null   object\n",
      " 4   form             2102 non-null   object\n",
      " 5   teasing          2102 non-null   object\n",
      " 6   author_role      2102 non-null   object\n",
      " 7   emotion          2102 non-null   object\n",
      "dtypes: int64(2), object(6)\n",
      "memory usage: 457.7+ KB\n"
     ]
    }
   ],
   "source": [
    "csv.info()"
   ]
  },
  {
   "cell_type": "code",
   "execution_count": 9,
   "id": "f22c78e6",
   "metadata": {},
   "outputs": [
    {
     "data": {
      "text/html": [
       "<div>\n",
       "<style scoped>\n",
       "    .dataframe tbody tr th:only-of-type {\n",
       "        vertical-align: middle;\n",
       "    }\n",
       "\n",
       "    .dataframe tbody tr th {\n",
       "        vertical-align: top;\n",
       "    }\n",
       "\n",
       "    .dataframe thead th {\n",
       "        text-align: right;\n",
       "    }\n",
       "</style>\n",
       "<table border=\"1\" class=\"dataframe\">\n",
       "  <thead>\n",
       "    <tr style=\"text-align: right;\">\n",
       "      <th></th>\n",
       "      <th>tweet_id</th>\n",
       "      <th>user_id</th>\n",
       "      <th>bullying_traces</th>\n",
       "      <th>type</th>\n",
       "      <th>form</th>\n",
       "      <th>teasing</th>\n",
       "      <th>author_role</th>\n",
       "      <th>emotion</th>\n",
       "    </tr>\n",
       "  </thead>\n",
       "  <tbody>\n",
       "    <tr>\n",
       "      <th>0</th>\n",
       "      <td>105730486382497793</td>\n",
       "      <td>322329899</td>\n",
       "      <td>y</td>\n",
       "      <td>self-disclosure</td>\n",
       "      <td>other</td>\n",
       "      <td>n</td>\n",
       "      <td>victim</td>\n",
       "      <td>none</td>\n",
       "    </tr>\n",
       "    <tr>\n",
       "      <th>1</th>\n",
       "      <td>107688644067856384</td>\n",
       "      <td>185389094</td>\n",
       "      <td>y</td>\n",
       "      <td>self-disclosure</td>\n",
       "      <td>other</td>\n",
       "      <td>n</td>\n",
       "      <td>defender</td>\n",
       "      <td>empathy</td>\n",
       "    </tr>\n",
       "    <tr>\n",
       "      <th>2</th>\n",
       "      <td>108654820042354688</td>\n",
       "      <td>361869056</td>\n",
       "      <td>n</td>\n",
       "      <td>NaN</td>\n",
       "      <td>NaN</td>\n",
       "      <td>NaN</td>\n",
       "      <td>NaN</td>\n",
       "      <td>NaN</td>\n",
       "    </tr>\n",
       "    <tr>\n",
       "      <th>3</th>\n",
       "      <td>102206417217392640</td>\n",
       "      <td>226320672</td>\n",
       "      <td>n</td>\n",
       "      <td>NaN</td>\n",
       "      <td>NaN</td>\n",
       "      <td>NaN</td>\n",
       "      <td>NaN</td>\n",
       "      <td>NaN</td>\n",
       "    </tr>\n",
       "    <tr>\n",
       "      <th>4</th>\n",
       "      <td>102779484725448704</td>\n",
       "      <td>297557032</td>\n",
       "      <td>n</td>\n",
       "      <td>NaN</td>\n",
       "      <td>NaN</td>\n",
       "      <td>NaN</td>\n",
       "      <td>NaN</td>\n",
       "      <td>NaN</td>\n",
       "    </tr>\n",
       "    <tr>\n",
       "      <th>...</th>\n",
       "      <td>...</td>\n",
       "      <td>...</td>\n",
       "      <td>...</td>\n",
       "      <td>...</td>\n",
       "      <td>...</td>\n",
       "      <td>...</td>\n",
       "      <td>...</td>\n",
       "      <td>...</td>\n",
       "    </tr>\n",
       "    <tr>\n",
       "      <th>7316</th>\n",
       "      <td>99912247060611074</td>\n",
       "      <td>162589166</td>\n",
       "      <td>y</td>\n",
       "      <td>self-disclosure</td>\n",
       "      <td>other</td>\n",
       "      <td>n</td>\n",
       "      <td>defender</td>\n",
       "      <td>empathy</td>\n",
       "    </tr>\n",
       "    <tr>\n",
       "      <th>7317</th>\n",
       "      <td>99878062220517376</td>\n",
       "      <td>221054960</td>\n",
       "      <td>y</td>\n",
       "      <td>accusation</td>\n",
       "      <td>other</td>\n",
       "      <td>n</td>\n",
       "      <td>accuser</td>\n",
       "      <td>none</td>\n",
       "    </tr>\n",
       "    <tr>\n",
       "      <th>7318</th>\n",
       "      <td>100049839949221889</td>\n",
       "      <td>110032215</td>\n",
       "      <td>n</td>\n",
       "      <td>NaN</td>\n",
       "      <td>NaN</td>\n",
       "      <td>NaN</td>\n",
       "      <td>NaN</td>\n",
       "      <td>NaN</td>\n",
       "    </tr>\n",
       "    <tr>\n",
       "      <th>7319</th>\n",
       "      <td>100006640492875776</td>\n",
       "      <td>171842492</td>\n",
       "      <td>y</td>\n",
       "      <td>denial</td>\n",
       "      <td>other</td>\n",
       "      <td>n</td>\n",
       "      <td>bully</td>\n",
       "      <td>none</td>\n",
       "    </tr>\n",
       "    <tr>\n",
       "      <th>7320</th>\n",
       "      <td>99712633174888448</td>\n",
       "      <td>225505498</td>\n",
       "      <td>y</td>\n",
       "      <td>report</td>\n",
       "      <td>other</td>\n",
       "      <td>n</td>\n",
       "      <td>reporter</td>\n",
       "      <td>none</td>\n",
       "    </tr>\n",
       "  </tbody>\n",
       "</table>\n",
       "<p>7321 rows × 8 columns</p>\n",
       "</div>"
      ],
      "text/plain": [
       "                tweet_id    user_id bullying_traces             type   form  \\\n",
       "0     105730486382497793  322329899               y  self-disclosure  other   \n",
       "1     107688644067856384  185389094               y  self-disclosure  other   \n",
       "2     108654820042354688  361869056               n              NaN    NaN   \n",
       "3     102206417217392640  226320672               n              NaN    NaN   \n",
       "4     102779484725448704  297557032               n              NaN    NaN   \n",
       "...                  ...        ...             ...              ...    ...   \n",
       "7316   99912247060611074  162589166               y  self-disclosure  other   \n",
       "7317   99878062220517376  221054960               y       accusation  other   \n",
       "7318  100049839949221889  110032215               n              NaN    NaN   \n",
       "7319  100006640492875776  171842492               y           denial  other   \n",
       "7320   99712633174888448  225505498               y           report  other   \n",
       "\n",
       "     teasing author_role  emotion  \n",
       "0          n      victim     none  \n",
       "1          n    defender  empathy  \n",
       "2        NaN         NaN      NaN  \n",
       "3        NaN         NaN      NaN  \n",
       "4        NaN         NaN      NaN  \n",
       "...      ...         ...      ...  \n",
       "7316       n    defender  empathy  \n",
       "7317       n     accuser     none  \n",
       "7318     NaN         NaN      NaN  \n",
       "7319       n       bully     none  \n",
       "7320       n    reporter     none  \n",
       "\n",
       "[7321 rows x 8 columns]"
      ]
     },
     "execution_count": 9,
     "metadata": {},
     "output_type": "execute_result"
    }
   ],
   "source": [
    "csv"
   ]
  },
  {
   "cell_type": "markdown",
   "id": "f6d1e286",
   "metadata": {},
   "source": [
    "### Tweet overview"
   ]
  },
  {
   "cell_type": "code",
   "execution_count": 10,
   "id": "fac0cd9a",
   "metadata": {},
   "outputs": [
    {
     "name": "stdout",
     "output_type": "stream",
     "text": [
      "@Underwalt @MsShandraRae @kateplusmy8 mr. walt, stop being a bully.\n",
      "【自動post】BULLY（いじめ）とSUICIDE（自殺）で、BULLYCIDE（いじめ自殺）。もっとも、自殺するのは憎い相手を殺した後。死なばもろとも…ってところかしら\n",
      "Paula, Kiersten and LJ's song about bullying. Great job! (Uploading more videos now.) http://fb.me/ASIm1gw1\n",
      "@katie_ogden @boybandslut @StephWall27 @BAMitsSHAZ @xstephhh_ I was not bullying her! She's trying to steal Jean Martyn from meee! :'( xx\n",
      "cara3: bully iam gara2 uda di ucpin tpi gk bls\n"
     ]
    }
   ],
   "source": [
    "import json\n",
    "\n",
    "\n",
    "f = open('tweet.json')\n",
    "tweets = json.load(f)\n",
    "\n",
    "counter = 0\n",
    "for tweet in tweets:\n",
    "    counter += 1\n",
    "    print(tweet['text'])\n",
    "    \n",
    "    if counter == 5:\n",
    "        break"
   ]
  },
  {
   "cell_type": "code",
   "execution_count": 11,
   "id": "bf8b90b0",
   "metadata": {},
   "outputs": [
    {
     "data": {
      "text/plain": [
       "dict_keys(['created_at', 'id', 'id_str', 'text', 'truncated', 'entities', 'source', 'in_reply_to_status_id', 'in_reply_to_status_id_str', 'in_reply_to_user_id', 'in_reply_to_user_id_str', 'in_reply_to_screen_name', 'user', 'geo', 'coordinates', 'place', 'contributors', 'is_quote_status', 'retweet_count', 'favorite_count', 'favorited', 'retweeted', 'lang'])"
      ]
     },
     "execution_count": 11,
     "metadata": {},
     "output_type": "execute_result"
    }
   ],
   "source": [
    "tweets[0].keys()"
   ]
  },
  {
   "cell_type": "markdown",
   "id": "ecab284c",
   "metadata": {},
   "source": [
    "### Maybe important features: \n",
    "* **text** \n",
    "* **symbols** \n",
    "* **in_reply_to_status_id**\n",
    "* **in_reply_to_user_id**\n",
    "* **description**\n",
    "* **retweet_count**\n",
    "* **retweeted**\n",
    "* **favorite_count**\n",
    "* **favorited**\n",
    "* **lang**\n"
   ]
  },
  {
   "cell_type": "code",
   "execution_count": 12,
   "id": "db4b5a38",
   "metadata": {},
   "outputs": [
    {
     "name": "stdout",
     "output_type": "stream",
     "text": [
      "Number of tweets:3992\n",
      "Number of english tweets:2522\n"
     ]
    }
   ],
   "source": [
    "eng_tweets = []\n",
    "eng_tweet_ids = []\n",
    "for tweet in tweets:\n",
    "    if tweet['lang'] == 'en':\n",
    "        eng_tweets.append(tweet)\n",
    "        eng_tweet_ids.append(tweet['id'])\n",
    "        \n",
    "        \n",
    "print(f'Number of tweets:{len(tweets)}')        \n",
    "print(f'Number of english tweets:{len(eng_tweets)}')\n",
    "    "
   ]
  },
  {
   "cell_type": "code",
   "execution_count": 13,
   "id": "55b8f1f2",
   "metadata": {},
   "outputs": [
    {
     "data": {
      "text/html": [
       "<div>\n",
       "<style scoped>\n",
       "    .dataframe tbody tr th:only-of-type {\n",
       "        vertical-align: middle;\n",
       "    }\n",
       "\n",
       "    .dataframe tbody tr th {\n",
       "        vertical-align: top;\n",
       "    }\n",
       "\n",
       "    .dataframe thead th {\n",
       "        text-align: right;\n",
       "    }\n",
       "</style>\n",
       "<table border=\"1\" class=\"dataframe\">\n",
       "  <thead>\n",
       "    <tr style=\"text-align: right;\">\n",
       "      <th></th>\n",
       "      <th>tweet_id</th>\n",
       "      <th>user_id</th>\n",
       "      <th>bullying_traces</th>\n",
       "      <th>type</th>\n",
       "      <th>form</th>\n",
       "      <th>teasing</th>\n",
       "      <th>author_role</th>\n",
       "      <th>emotion</th>\n",
       "    </tr>\n",
       "  </thead>\n",
       "  <tbody>\n",
       "    <tr>\n",
       "      <th>1</th>\n",
       "      <td>107688644067856384</td>\n",
       "      <td>185389094</td>\n",
       "      <td>y</td>\n",
       "      <td>self-disclosure</td>\n",
       "      <td>other</td>\n",
       "      <td>n</td>\n",
       "      <td>defender</td>\n",
       "      <td>empathy</td>\n",
       "    </tr>\n",
       "    <tr>\n",
       "      <th>4</th>\n",
       "      <td>102779484725448704</td>\n",
       "      <td>297557032</td>\n",
       "      <td>n</td>\n",
       "      <td>NaN</td>\n",
       "      <td>NaN</td>\n",
       "      <td>NaN</td>\n",
       "      <td>NaN</td>\n",
       "      <td>NaN</td>\n",
       "    </tr>\n",
       "    <tr>\n",
       "      <th>9</th>\n",
       "      <td>109034091743154176</td>\n",
       "      <td>177913822</td>\n",
       "      <td>n</td>\n",
       "      <td>NaN</td>\n",
       "      <td>NaN</td>\n",
       "      <td>NaN</td>\n",
       "      <td>NaN</td>\n",
       "      <td>NaN</td>\n",
       "    </tr>\n",
       "    <tr>\n",
       "      <th>10</th>\n",
       "      <td>102533497637437441</td>\n",
       "      <td>70412906</td>\n",
       "      <td>y</td>\n",
       "      <td>report</td>\n",
       "      <td>other</td>\n",
       "      <td>n</td>\n",
       "      <td>reporter</td>\n",
       "      <td>none</td>\n",
       "    </tr>\n",
       "    <tr>\n",
       "      <th>14</th>\n",
       "      <td>103679008855691264</td>\n",
       "      <td>11363462</td>\n",
       "      <td>n</td>\n",
       "      <td>NaN</td>\n",
       "      <td>NaN</td>\n",
       "      <td>NaN</td>\n",
       "      <td>NaN</td>\n",
       "      <td>NaN</td>\n",
       "    </tr>\n",
       "    <tr>\n",
       "      <th>...</th>\n",
       "      <td>...</td>\n",
       "      <td>...</td>\n",
       "      <td>...</td>\n",
       "      <td>...</td>\n",
       "      <td>...</td>\n",
       "      <td>...</td>\n",
       "      <td>...</td>\n",
       "      <td>...</td>\n",
       "    </tr>\n",
       "    <tr>\n",
       "      <th>7306</th>\n",
       "      <td>99823454777393152</td>\n",
       "      <td>48203749</td>\n",
       "      <td>n</td>\n",
       "      <td>NaN</td>\n",
       "      <td>NaN</td>\n",
       "      <td>NaN</td>\n",
       "      <td>NaN</td>\n",
       "      <td>NaN</td>\n",
       "    </tr>\n",
       "    <tr>\n",
       "      <th>7307</th>\n",
       "      <td>100063708629319680</td>\n",
       "      <td>305258003</td>\n",
       "      <td>n</td>\n",
       "      <td>NaN</td>\n",
       "      <td>NaN</td>\n",
       "      <td>NaN</td>\n",
       "      <td>NaN</td>\n",
       "      <td>NaN</td>\n",
       "    </tr>\n",
       "    <tr>\n",
       "      <th>7314</th>\n",
       "      <td>99886032048226304</td>\n",
       "      <td>21235814</td>\n",
       "      <td>n</td>\n",
       "      <td>NaN</td>\n",
       "      <td>NaN</td>\n",
       "      <td>NaN</td>\n",
       "      <td>NaN</td>\n",
       "      <td>NaN</td>\n",
       "    </tr>\n",
       "    <tr>\n",
       "      <th>7319</th>\n",
       "      <td>100006640492875776</td>\n",
       "      <td>171842492</td>\n",
       "      <td>y</td>\n",
       "      <td>denial</td>\n",
       "      <td>other</td>\n",
       "      <td>n</td>\n",
       "      <td>bully</td>\n",
       "      <td>none</td>\n",
       "    </tr>\n",
       "    <tr>\n",
       "      <th>7320</th>\n",
       "      <td>99712633174888448</td>\n",
       "      <td>225505498</td>\n",
       "      <td>y</td>\n",
       "      <td>report</td>\n",
       "      <td>other</td>\n",
       "      <td>n</td>\n",
       "      <td>reporter</td>\n",
       "      <td>none</td>\n",
       "    </tr>\n",
       "  </tbody>\n",
       "</table>\n",
       "<p>2522 rows × 8 columns</p>\n",
       "</div>"
      ],
      "text/plain": [
       "                tweet_id    user_id bullying_traces             type   form  \\\n",
       "1     107688644067856384  185389094               y  self-disclosure  other   \n",
       "4     102779484725448704  297557032               n              NaN    NaN   \n",
       "9     109034091743154176  177913822               n              NaN    NaN   \n",
       "10    102533497637437441   70412906               y           report  other   \n",
       "14    103679008855691264   11363462               n              NaN    NaN   \n",
       "...                  ...        ...             ...              ...    ...   \n",
       "7306   99823454777393152   48203749               n              NaN    NaN   \n",
       "7307  100063708629319680  305258003               n              NaN    NaN   \n",
       "7314   99886032048226304   21235814               n              NaN    NaN   \n",
       "7319  100006640492875776  171842492               y           denial  other   \n",
       "7320   99712633174888448  225505498               y           report  other   \n",
       "\n",
       "     teasing author_role  emotion  \n",
       "1          n    defender  empathy  \n",
       "4        NaN         NaN      NaN  \n",
       "9        NaN         NaN      NaN  \n",
       "10         n    reporter     none  \n",
       "14       NaN         NaN      NaN  \n",
       "...      ...         ...      ...  \n",
       "7306     NaN         NaN      NaN  \n",
       "7307     NaN         NaN      NaN  \n",
       "7314     NaN         NaN      NaN  \n",
       "7319       n       bully     none  \n",
       "7320       n    reporter     none  \n",
       "\n",
       "[2522 rows x 8 columns]"
      ]
     },
     "execution_count": 13,
     "metadata": {},
     "output_type": "execute_result"
    }
   ],
   "source": [
    "# here we filter out non english tweets\n",
    "eng_tweets_csv = csv.loc[csv[\"tweet_id\"].isin(eng_tweet_ids)]\n",
    "eng_tweets_csv"
   ]
  },
  {
   "cell_type": "code",
   "execution_count": 14,
   "id": "c42d0a05",
   "metadata": {},
   "outputs": [
    {
     "data": {
      "text/plain": [
       "n    1495\n",
       "y    1027\n",
       "Name: bullying_traces, dtype: int64"
      ]
     },
     "execution_count": 14,
     "metadata": {},
     "output_type": "execute_result"
    }
   ],
   "source": [
    "eng_tweets_csv['bullying_traces'].value_counts()"
   ]
  },
  {
   "cell_type": "markdown",
   "id": "32d14d3b",
   "metadata": {},
   "source": [
    "#### Tweet normalization"
   ]
  },
  {
   "cell_type": "code",
   "execution_count": 54,
   "id": "a0e2c41e",
   "metadata": {},
   "outputs": [
    {
     "name": "stdout",
     "output_type": "stream",
     "text": [
      "SC has first two presumptive cases of coronavirus , DHEC confirms HTTPURL ... via @USER\n"
     ]
    }
   ],
   "source": [
    "from emoji import demojize\n",
    "from nltk.tokenize import TweetTokenizer\n",
    "\n",
    "\n",
    "tokenizer = TweetTokenizer()\n",
    "\n",
    "\n",
    "def normalizeToken(token):\n",
    "    lowercased_token = token.lower()\n",
    "    if token.startswith(\"@\"):\n",
    "        return \"@USER\"\n",
    "    elif lowercased_token.startswith(\"http\") or lowercased_token.startswith(\"www\"):\n",
    "        return \"HTTPURL\"\n",
    "    elif len(token) == 1:\n",
    "        return demojize(token)\n",
    "    else:\n",
    "        if token == \"’\":\n",
    "            return \"'\"\n",
    "        elif token == \"…\":\n",
    "            return \"...\"\n",
    "        else:\n",
    "            return token\n",
    "\n",
    "\n",
    "def normalizeTweet(tweet):\n",
    "    tokens = tokenizer.tokenize(tweet.replace(\"’\", \"'\").replace(\"…\", \"...\"))\n",
    "    normTweet = \" \".join([normalizeToken(token) for token in tokens])\n",
    "\n",
    "    normTweet = (\n",
    "        normTweet.replace(\"cannot \", \"can not \")\n",
    "        .replace(\"n't \", \" n't \")\n",
    "        .replace(\"n 't \", \" n't \")\n",
    "        .replace(\"ca n't\", \"can't\")\n",
    "        .replace(\"ai n't\", \"ain't\")\n",
    "    )\n",
    "    normTweet = (\n",
    "        normTweet.replace(\"'m \", \" 'm \")\n",
    "        .replace(\"'re \", \" 're \")\n",
    "        .replace(\"'s \", \" 's \")\n",
    "        .replace(\"'ll \", \" 'll \")\n",
    "        .replace(\"'d \", \" 'd \")\n",
    "        .replace(\"'ve \", \" 've \")\n",
    "    )\n",
    "    normTweet = (\n",
    "        normTweet.replace(\" p . m .\", \"  p.m.\")\n",
    "        .replace(\" p . m \", \" p.m \")\n",
    "        .replace(\" a . m .\", \" a.m.\")\n",
    "        .replace(\" a . m \", \" a.m \")\n",
    "    )\n",
    "\n",
    "    return \" \".join(normTweet.split())\n",
    "\n",
    "\n",
    "\n",
    "print(\n",
    "    normalizeTweet(\n",
    "        \"SC has first two presumptive cases of coronavirus, DHEC confirms https://postandcourier.com/health/covid19/sc-has-first-two-presumptive-cases-of-coronavirus-dhec-confirms/article_bddfe4ae-5fd3-11ea-9ce4-5f495366cee6.html?utm_medium=social&utm_source=twitter&utm_campaign=user-share… via @postandcourier\"\n",
    "    )\n",
    ")"
   ]
  },
  {
   "cell_type": "code",
   "execution_count": 68,
   "id": "33f00c00",
   "metadata": {},
   "outputs": [
    {
     "name": "stdout",
     "output_type": "stream",
     "text": [
      "DHEC confirms HTTPURL ... via @USER :crying_face:\n"
     ]
    }
   ],
   "source": [
    "print(normalizeTweet(\"DHEC confirms https://postandcourier.com/health/covid19/sc-has-first-two-presumptive-cases-of-coronavirus-dhec-confirms/article_bddfe4ae-5fd3-11ea-9ce4-5f495366cee6.html?utm_medium=social&utm_source=twitter&utm_campaign=user-share… via @postandcourier 😢\"))"
   ]
  },
  {
   "cell_type": "code",
   "execution_count": 64,
   "id": "68a3f228",
   "metadata": {},
   "outputs": [
    {
     "name": "stdout",
     "output_type": "stream",
     "text": [
      "@owillis @rootless_e don't know their plan so weak leaders they r like follwers on school payground they go after the kid the bully go after\n",
      "@USER @USER do n't know their plan so weak leaders they r like follwers on school payground they go after the kid the bully go after\n"
     ]
    }
   ],
   "source": [
    "tweet_number = 125\n",
    "\n",
    "print(eng_tweets[tweet_number]['text'])\n",
    "print(normalizeTweet(eng_tweets[tweet_number]['text']))"
   ]
  },
  {
   "cell_type": "markdown",
   "id": "2db4dc2d",
   "metadata": {},
   "source": [
    "#### BERT feature extraction"
   ]
  },
  {
   "cell_type": "code",
   "execution_count": 18,
   "id": "c545a630",
   "metadata": {},
   "outputs": [
    {
     "data": {
      "application/vnd.jupyter.widget-view+json": {
       "model_id": "7df4554f9bb8484d9ff88ff1e8aebbe1",
       "version_major": 2,
       "version_minor": 0
      },
      "text/plain": [
       "Downloading:   0%|          | 0.00/1.32G [00:00<?, ?B/s]"
      ]
     },
     "metadata": {},
     "output_type": "display_data"
    },
    {
     "name": "stderr",
     "output_type": "stream",
     "text": [
      "Some weights of the model checkpoint at vinai/bertweet-large were not used when initializing RobertaModel: ['lm_head.dense.weight', 'lm_head.bias', 'lm_head.decoder.weight', 'lm_head.layer_norm.bias', 'lm_head.dense.bias', 'lm_head.decoder.bias', 'lm_head.layer_norm.weight']\n",
      "- This IS expected if you are initializing RobertaModel from the checkpoint of a model trained on another task or with another architecture (e.g. initializing a BertForSequenceClassification model from a BertForPreTraining model).\n",
      "- This IS NOT expected if you are initializing RobertaModel from the checkpoint of a model that you expect to be exactly identical (initializing a BertForSequenceClassification model from a BertForSequenceClassification model).\n",
      "Some weights of RobertaModel were not initialized from the model checkpoint at vinai/bertweet-large and are newly initialized: ['roberta.pooler.dense.bias', 'roberta.pooler.dense.weight']\n",
      "You should probably TRAIN this model on a down-stream task to be able to use it for predictions and inference.\n"
     ]
    },
    {
     "data": {
      "application/vnd.jupyter.widget-view+json": {
       "model_id": "9075be03c8804d30b69e0afdd62a4be0",
       "version_major": 2,
       "version_minor": 0
      },
      "text/plain": [
       "Downloading:   0%|          | 0.00/878k [00:00<?, ?B/s]"
      ]
     },
     "metadata": {},
     "output_type": "display_data"
    },
    {
     "data": {
      "application/vnd.jupyter.widget-view+json": {
       "model_id": "0629abaf1dce4233a2d9f642fa321607",
       "version_major": 2,
       "version_minor": 0
      },
      "text/plain": [
       "Downloading:   0%|          | 0.00/446k [00:00<?, ?B/s]"
      ]
     },
     "metadata": {},
     "output_type": "display_data"
    },
    {
     "data": {
      "application/vnd.jupyter.widget-view+json": {
       "model_id": "6614b6715fda4d6e961eb589fe734f88",
       "version_major": 2,
       "version_minor": 0
      },
      "text/plain": [
       "Downloading:   0%|          | 0.00/1.29M [00:00<?, ?B/s]"
      ]
     },
     "metadata": {},
     "output_type": "display_data"
    }
   ],
   "source": [
    "import torch\n",
    "from transformers import AutoModel, AutoTokenizer \n",
    "\n",
    "bertweet = AutoModel.from_pretrained(\"vinai/bertweet-large\")\n",
    "\n",
    "tokenizer = AutoTokenizer.from_pretrained(\"vinai/bertweet-large\")\n",
    "\n",
    "# INPUT TWEET IS ALREADY NORMALIZED!\n",
    "line = \"DHEC confirms HTTPURL via @USER :crying_face:\"\n",
    "\n",
    "input_ids = torch.tensor([tokenizer.encode(line)])\n",
    "\n",
    "with torch.no_grad():\n",
    "    features = bertweet(input_ids)  # Models outputs are now tuples\n",
    "    \n",
    "## With TensorFlow 2.0+:\n",
    "# from transformers import TFAutoModel\n",
    "# bertweet = TFAutoModel.from_pretrained(\"vinai/bertweet-large\")"
   ]
  },
  {
   "cell_type": "code",
   "execution_count": 19,
   "id": "7b4abe55",
   "metadata": {},
   "outputs": [
    {
     "data": {
      "text/plain": [
       "BaseModelOutputWithPoolingAndCrossAttentions(last_hidden_state=tensor([[[ 0.0862,  0.0521, -0.1026,  ...,  0.0147,  0.1891, -0.0736],\n",
       "         [ 0.1007, -0.0159, -0.6580,  ...,  0.1054,  0.2050,  0.0699],\n",
       "         [ 0.2216,  0.0395, -0.5482,  ..., -0.1893,  0.3768,  0.2154],\n",
       "         ...,\n",
       "         [ 0.0523,  0.2308, -0.8912,  ...,  0.3122, -0.0351, -0.0617],\n",
       "         [-0.0252, -0.1803, -0.0527,  ...,  0.3899, -0.1398, -0.2169],\n",
       "         [ 0.0499,  0.0034, -0.1559,  ..., -0.0495,  0.1139, -0.0543]]]), pooler_output=tensor([[-0.2438, -0.0983, -0.2807,  ...,  0.2079,  0.2894, -0.6219]]), hidden_states=None, past_key_values=None, attentions=None, cross_attentions=None)"
      ]
     },
     "execution_count": 19,
     "metadata": {},
     "output_type": "execute_result"
    }
   ],
   "source": [
    "features"
   ]
  }
 ],
 "metadata": {
  "kernelspec": {
   "display_name": "Python 3 (ipykernel)",
   "language": "python",
   "name": "python3"
  },
  "language_info": {
   "codemirror_mode": {
    "name": "ipython",
    "version": 3
   },
   "file_extension": ".py",
   "mimetype": "text/x-python",
   "name": "python",
   "nbconvert_exporter": "python",
   "pygments_lexer": "ipython3",
   "version": "3.9.0"
  }
 },
 "nbformat": 4,
 "nbformat_minor": 5
}
